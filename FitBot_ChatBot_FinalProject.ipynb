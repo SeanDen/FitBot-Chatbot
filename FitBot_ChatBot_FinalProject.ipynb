{
  "nbformat": 4,
  "nbformat_minor": 0,
  "metadata": {
    "colab": {
      "provenance": []
    },
    "kernelspec": {
      "name": "python3",
      "display_name": "Python 3"
    },
    "language_info": {
      "name": "python"
    }
  },
  "cells": [
    {
      "cell_type": "markdown",
      "source": [
        "**Import Libraries**"
      ],
      "metadata": {
        "id": "5N5ELu1jAqVw"
      }
    },
    {
      "cell_type": "code",
      "execution_count": null,
      "metadata": {
        "id": "2kJ8H4DW06MU"
      },
      "outputs": [],
      "source": [
        "import pandas as pd\n",
        "import matplotlib.pyplot as plt"
      ]
    },
    {
      "cell_type": "markdown",
      "source": [
        "**Error Handling for CSV Loading**"
      ],
      "metadata": {
        "id": "UN7ABwzDAuwt"
      }
    },
    {
      "cell_type": "code",
      "source": [
        "from google.colab import drive\n",
        "drive.mount('/content/drive')"
      ],
      "metadata": {
        "colab": {
          "base_uri": "https://localhost:8080/"
        },
        "id": "0hEiMsgXCZL1",
        "outputId": "20563a4f-b0a5-4beb-b9d0-c49ce7d94559"
      },
      "execution_count": null,
      "outputs": [
        {
          "output_type": "stream",
          "name": "stdout",
          "text": [
            "Mounted at /content/drive\n"
          ]
        }
      ]
    },
    {
      "cell_type": "code",
      "source": [
        "try:\n",
        "    df = pd.read_csv('/content/FitnessBot_Dataset.csv')\n",
        "    print(df.columns)  # Print columns to verify their names\n",
        "except FileNotFoundError:\n",
        "    print(\"Error: The dataset file was not found.\")\n",
        "    exit()"
      ],
      "metadata": {
        "colab": {
          "base_uri": "https://localhost:8080/"
        },
        "id": "1ykaLIiaA1Y8",
        "outputId": "e580ba4d-8b31-4c21-e113-5ecfed6901dd"
      },
      "execution_count": null,
      "outputs": [
        {
          "output_type": "stream",
          "name": "stdout",
          "text": [
            "Index(['Age', 'Gender', 'Activity_Level', 'Body_Type', 'Goal',\n",
            "       'Training_Split', 'Diet_Advice'],\n",
            "      dtype='object')\n"
          ]
        }
      ]
    },
    {
      "cell_type": "markdown",
      "source": [
        "**Function: Display Fitness Advice**"
      ],
      "metadata": {
        "id": "qM6-C61ZC3Ou"
      }
    },
    {
      "cell_type": "code",
      "source": [
        "def fitness_advice(body_type, goal):\n",
        "    \"\"\"Fetch fitness advice based on body type and goal.\"\"\"\n",
        "    advice = df[(df['Body_Type'] == body_type) & (df['Goal'] == goal)]\n",
        "    if not advice.empty:\n",
        "        training_plan = advice.iloc[0]['Training_Split']\n",
        "        diet_recommendation = advice.iloc[0]['Diet_Advice']\n",
        "        return training_plan, diet_recommendation\n",
        "    else:\n",
        "        return None, None"
      ],
      "metadata": {
        "id": "aIpPpxARC4Ka"
      },
      "execution_count": null,
      "outputs": []
    },
    {
      "cell_type": "markdown",
      "source": [
        "**Function: Display Macro Chart**"
      ],
      "metadata": {
        "id": "R5ipfy_qC7vo"
      }
    },
    {
      "cell_type": "code",
      "source": [
        "def show_macro_chart():\n",
        "    \"\"\"Display a macro distribution chart.\"\"\"\n",
        "    labels = ['Protein', 'Carbs', 'Fats']\n",
        "    values = [30, 50, 20]\n",
        "    plt.figure(figsize=(6, 6))\n",
        "    plt.pie(values, labels=labels, autopct='%1.1f%%', startangle=140)\n",
        "    plt.title('Macro Distribution for Maintenance')\n",
        "    plt.show()"
      ],
      "metadata": {
        "id": "MO6TTlOoC_Q4"
      },
      "execution_count": null,
      "outputs": []
    },
    {
      "cell_type": "markdown",
      "source": [
        "**Chatbot**"
      ],
      "metadata": {
        "id": "NcFvYORVDC6L"
      }
    },
    {
      "cell_type": "code",
      "source": [
        "def fitbot():\n",
        "    \"\"\"Run the FitBot chatbot.\"\"\"\n",
        "    print(\"Welcome to FitBot! Let's achieve your fitness goals together.\")\n",
        "    try:\n",
        "        # Collect user details\n",
        "        age = int(input(\"What is your age? \"))\n",
        "        if age < 17:\n",
        "            print(\"Sorry, FitBot is designed for users aged 17 and above.\")\n",
        "            return\n",
        "\n",
        "        gender = input(\"What is your gender? (Male/Female): \").strip().capitalize()\n",
        "        activity_level = input(\"How physically active are you? (Sedentary, Lightly Active, Moderately Active, Very Active): \").strip().capitalize()\n",
        "        print(\"\\nIdentify your body type:\")\n",
        "        print(\"1. Ectomorph (Long, lean, struggles to gain weight).\")\n",
        "        print(\"2. Mesomorph (Athletic, well-defined muscles).\")\n",
        "        print(\"3. Endomorph (Rounded, gains weight easily).\")\n",
        "        body_type = input(\"Enter your body type (Ectomorph/Mesomorph/Endomorph): \").strip().capitalize()\n",
        "\n",
        "        # Determine goal based on body type\n",
        "        if body_type == \"Ectomorph\":\n",
        "            goal = \"Bulking\"\n",
        "        elif body_type == \"Mesomorph\":\n",
        "            goal = \"Maintenance\"\n",
        "        elif body_type == \"Endomorph\":\n",
        "            goal = \"Cutting\"\n",
        "        else:\n",
        "            print(\"Invalid body type.\")\n",
        "            return\n",
        "\n",
        "        # Fetch fitness advice\n",
        "        training_plan, diet_recommendation = fitness_advice(body_type, goal)\n",
        "\n",
        "        if training_plan and diet_recommendation:\n",
        "            print(f\"\\nBased on your inputs, here's your personalized fitness plan:\")\n",
        "            print(f\"Body Type: {body_type}\")\n",
        "            print(f\"Fitness Goal: {goal}\")\n",
        "            print(\"\\nTraining Plan:\")\n",
        "            print(training_plan)\n",
        "            print(\"\\nDietary Recommendations:\")\n",
        "            print(diet_recommendation)\n",
        "\n",
        "            # Optionally show macro chart\n",
        "            show_macro = input(\"\\nWould you like to see a macro distribution chart? (yes/no): \").strip().lower()\n",
        "            if show_macro == 'yes':\n",
        "                show_macro_chart()\n",
        "        else:\n",
        "            print(\"Sorry, we couldn't fetch a plan for your details. Please try again.\")\n",
        "\n",
        "    except ValueError:\n",
        "        print(\"Invalid input. Please enter the correct details.\")\n",
        "\n",
        "# Run FitBot\n",
        "fitbot()"
      ],
      "metadata": {
        "colab": {
          "base_uri": "https://localhost:8080/",
          "height": 903
        },
        "id": "U9ITUob1DFx_",
        "outputId": "f412bb6b-1d56-4452-c0c0-19782b4e7728"
      },
      "execution_count": null,
      "outputs": [
        {
          "name": "stdout",
          "output_type": "stream",
          "text": [
            "Welcome to FitBot! Let's achieve your fitness goals together.\n",
            "What is your age? 20\n",
            "What is your gender? (Male/Female): Male\n",
            "How physically active are you? (Sedentary, Lightly Active, Moderately Active, Very Active): Sedentary\n",
            "\n",
            "Identify your body type:\n",
            "1. Ectomorph (Long, lean, struggles to gain weight).\n",
            "2. Mesomorph (Athletic, well-defined muscles).\n",
            "3. Endomorph (Rounded, gains weight easily).\n",
            "Enter your body type (Ectomorph/Mesomorph/Endomorph): Ectomorph\n",
            "\n",
            "Based on your inputs, here's your personalized fitness plan:\n",
            "Body Type: Ectomorph\n",
            "Fitness Goal: Bulking\n",
            "\n",
            "Training Plan:\n",
            "Focus on strength training with heavy weights, 4-5 days/week\n",
            "\n",
            "Dietary Recommendations:\n",
            "Eat high-calorie, protein-rich foods; consume 5-6 meals/day.\n",
            "\n",
            "Would you like to see a macro distribution chart? (yes/no): yes\n"
          ]
        },
        {
          "output_type": "display_data",
          "data": {
            "text/plain": [
              "<Figure size 600x600 with 1 Axes>"
            ],
            "image/png": "[encoded data removed]"
          },
          "metadata": {}
        }
      ]
    }
  ]
}